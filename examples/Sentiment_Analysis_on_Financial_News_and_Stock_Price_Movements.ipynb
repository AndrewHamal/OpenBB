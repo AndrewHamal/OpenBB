{
 "cells": [
  {
   "attachments": {},
   "cell_type": "markdown",
   "metadata": {},
   "source": [
    "# Instructions for Contributors\n",
    "\n",
    "Welcome to this example notebook for OpenBB! Please follow the steps below:\n",
    "\n",
    "1. **Fill in the details**: Customize the second cell with the name of the notebook, your GitHub profile link, and a brief description of what your notebook demonstrates.\n",
    "2. **Add Your Code**: Make sure to include clean and commented code sections throughout the notebook.\n",
    "3. **Test Before Submitting**: Run all cells to ensure the notebook functions as expected.\n",
    "4. **Keep it Simple and Clear**: Make your explanations and code as clear as possible for others to follow.\n",
    "5. **Run in Colab Button**: Ensure the \"Run in Colab\" button links properly to the notebook. You can test it by clicking the button and verifying it loads your notebook.\n",
    "\n",
    "Please refer to the documentation at [OpenBB Documentation](https://docs.openbb.co/) for additional guidance.\n",
    "\n",
    "Remove this cell before submitting your notebook."
   ]
  },
  {
   "attachments": {},
   "cell_type": "markdown",
   "metadata": {},
   "source": [
    "## Sentiment Analysis on Financial News and Stock Price Movements\n",
    "\n",
    "#### This notebook fetches sentiment data from financial news articles and correlates it with stock price movements to model risk-return tradeoffs.\n",
    "\n",
    "#### Author\n",
    "[Anis Hamal](https://github.com/AndrewHamal)\n",
    "\n",
    "[![Open in Colab](https://colab.research.google.com/assets/colab-badge.svg)](https://colab.research.google.com/github/OpenBB-Finance/OpenBB/blob/develop/examples/Sentiment_Analysis_on_Financial_News_and_Stock_Price_Movements.ipynb)"
   ]
  },
  {
   "attachments": {},
   "cell_type": "markdown",
   "metadata": {},
   "source": [
    "If you are running this notebook in Colab, you can run the following command to install the OpenBB Platform:\n",
    "\n",
    "```python\n",
    "!pip install openbb\n",
    "!pip install vaderSentiment\n",
    "!pip install pandas matplotlib\n",
    "```\n"
   ]
  },
  {
   "cell_type": "code",
   "execution_count": null,
   "metadata": {},
   "outputs": [],
   "source": [
    "%pip install openbb\n",
    "%pip install vaderSentiment\n",
    "%pip install pandas matplotlib"
   ]
  },
  {
   "cell_type": "code",
   "execution_count": 112,
   "metadata": {},
   "outputs": [],
   "source": [
    "# Import Libraries\n",
    "from openbb import obb\n",
    "import pandas as pd\n",
    "import matplotlib.pyplot as plt\n",
    "from vaderSentiment.vaderSentiment import SentimentIntensityAnalyzer\n",
    "\n",
    "# To set keys from the Python client for the current session only, access the Credentials class\n",
    "obb.user.credentials.polygon_api_key = 'j1hvRP1wIG7v829Bqjtmq8MR_*****'"
   ]
  },
  {
   "attachments": {},
   "cell_type": "markdown",
   "metadata": {},
   "source": [
    "## Fetch Sentiment Data\n",
    "### create a function to fetch sentiment data:"
   ]
  },
  {
   "cell_type": "code",
   "execution_count": 326,
   "metadata": {},
   "outputs": [],
   "source": [
    "# Sentiment analyzer initialize \n",
    "analyzer = SentimentIntensityAnalyzer()\n",
    "\n",
    "def fetch_sentiment_data(symbol, start_date, end_date):\n",
    "    sentiment_data = obb.news.company(symbol=symbol, start=start_date, end=end_date, provider='polygon')\n",
    "    \n",
    "    return pd.DataFrame(\n",
    "            list(map(lambda x: {\n",
    "                    'date': pd.to_datetime(x.date).date(), \n",
    "                    'title': x.title, \n",
    "                    'sentiment_score': analyzer.polarity_scores(x.title)['compound']\n",
    "                }, \n",
    "                sentiment_data.results\n",
    "            ))\n",
    "        )"
   ]
  },
  {
   "attachments": {},
   "cell_type": "markdown",
   "metadata": {},
   "source": [
    "## Fetch Stock Price Data\n",
    "### create a function to fetch stock price data:"
   ]
  },
  {
   "cell_type": "code",
   "execution_count": 311,
   "metadata": {},
   "outputs": [],
   "source": [
    "# Fetch Stock Price Data\n",
    "def fetch_stock_data(ticker, start_date, end_date):\n",
    "    stock_data = obb.etf.historical(sort='desc', symbol=ticker, start=start_date, end=end_date, provider='polygon')\n",
    "    return pd.DataFrame(list(map(lambda x: {'date': pd.to_datetime(x.date).date(), 'close': x.close }, stock_data.results)))"
   ]
  },
  {
   "attachments": {},
   "cell_type": "markdown",
   "metadata": {},
   "source": [
    "## Correlate Sentiment with Stock Prices\n",
    "### create a function to correlate sentiment with stock prices:"
   ]
  },
  {
   "cell_type": "code",
   "execution_count": 263,
   "metadata": {},
   "outputs": [],
   "source": [
    "# Correlate Sentiment with Stock Prices\n",
    "def correlate_sentiment_with_stock(sentiment_data, stock_data):\n",
    "    # Merge data on dates\n",
    "    merged_data = pd.merge(sentiment_data, stock_data, on='date', how='inner')\n",
    "    \n",
    "    # Calculate correlation\n",
    "    correlation = merged_data['sentiment_score'].corr(merged_data['close'])\n",
    "    return correlation, merged_data"
   ]
  },
  {
   "cell_type": "code",
   "execution_count": 317,
   "metadata": {},
   "outputs": [],
   "source": [
    "def visualize_data(merged_data):\n",
    "    plt.figure(figsize=(14, 7))\n",
    "    \n",
    "    # Plot sentiment score\n",
    "    plt.subplot(2, 1, 1)\n",
    "    plt.plot(merged_data['date'], merged_data['sentiment_score'], label='Sentiment Score', color='blue')\n",
    "    plt.title('Sentiment Score Over Time')\n",
    "    plt.xlabel('Date')\n",
    "    plt.ylabel('Sentiment Score')\n",
    "    plt.legend()\n",
    "\n",
    "    # Plot stock prices\n",
    "    plt.subplot(2, 1, 2)\n",
    "    plt.plot(merged_data['date'], merged_data['close'], label='Stock Price', color='green')\n",
    "    plt.title('Stock Price Over Time')\n",
    "    plt.xlabel('Date')\n",
    "    plt.ylabel('Stock Price')\n",
    "    plt.legend()\n",
    "\n",
    "    plt.tight_layout()\n",
    "    plt.show()"
   ]
  },
  {
   "cell_type": "code",
   "execution_count": 327,
   "metadata": {},
   "outputs": [
    {
     "name": "stderr",
     "output_type": "stream",
     "text": [
      "/Users/anishamal/Library/Python/3.9/lib/python/site-packages/openbb_core/app/command_runner.py:140: OpenBBWarning: Parameter 'start' not found.\n",
      "  warn(\n",
      "/Users/anishamal/Library/Python/3.9/lib/python/site-packages/openbb_core/app/command_runner.py:140: OpenBBWarning: Parameter 'end' not found.\n",
      "  warn(\n",
      "/Users/anishamal/Library/Python/3.9/lib/python/site-packages/openbb_core/app/command_runner.py:140: OpenBBWarning: Parameter 'start' not found.\n",
      "  warn(\n",
      "/Users/anishamal/Library/Python/3.9/lib/python/site-packages/openbb_core/app/command_runner.py:140: OpenBBWarning: Parameter 'end' not found.\n",
      "  warn(\n"
     ]
    },
    {
     "ename": "ValueError",
     "evalue": "could not convert string to float: 'Negative'",
     "output_type": "error",
     "traceback": [
      "\u001b[0;31m---------------------------------------------------------------------------\u001b[0m",
      "\u001b[0;31mValueError\u001b[0m                                Traceback (most recent call last)",
      "Cell \u001b[0;32mIn[327], line 9\u001b[0m\n\u001b[1;32m      6\u001b[0m sentiment_data \u001b[39m=\u001b[39m fetch_sentiment_data(symbol, start_date, end_date)\n\u001b[1;32m      7\u001b[0m stock_data \u001b[39m=\u001b[39m fetch_stock_data(symbol, start_date, end_date)\n\u001b[0;32m----> 9\u001b[0m correlation, merged_data \u001b[39m=\u001b[39m correlate_sentiment_with_stock(sentiment_data, stock_data)\n\u001b[1;32m     11\u001b[0m \u001b[39mprint\u001b[39m(\u001b[39mf\u001b[39m\u001b[39m\"\u001b[39m\u001b[39mCorrelation between sentiment and stock price: \u001b[39m\u001b[39m{\u001b[39;00mcorrelation\u001b[39m:\u001b[39;00m\u001b[39m.4f\u001b[39m\u001b[39m}\u001b[39;00m\u001b[39m\"\u001b[39m)\n\u001b[1;32m     12\u001b[0m visualize_data(merged_data)\n",
      "Cell \u001b[0;32mIn[263], line 6\u001b[0m, in \u001b[0;36mcorrelate_sentiment_with_stock\u001b[0;34m(sentiment_data, stock_data)\u001b[0m\n\u001b[1;32m      3\u001b[0m merged_data \u001b[39m=\u001b[39m pd\u001b[39m.\u001b[39mmerge(sentiment_data, stock_data, on\u001b[39m=\u001b[39m\u001b[39m'\u001b[39m\u001b[39mdate\u001b[39m\u001b[39m'\u001b[39m, how\u001b[39m=\u001b[39m\u001b[39m'\u001b[39m\u001b[39minner\u001b[39m\u001b[39m'\u001b[39m)\n\u001b[1;32m      5\u001b[0m \u001b[39m# Calculate correlation\u001b[39;00m\n\u001b[0;32m----> 6\u001b[0m correlation \u001b[39m=\u001b[39m merged_data[\u001b[39m'\u001b[39;49m\u001b[39msentiment_score\u001b[39;49m\u001b[39m'\u001b[39;49m]\u001b[39m.\u001b[39;49mcorr(merged_data[\u001b[39m'\u001b[39;49m\u001b[39mclose\u001b[39;49m\u001b[39m'\u001b[39;49m])\n\u001b[1;32m      7\u001b[0m \u001b[39mreturn\u001b[39;00m correlation, merged_data\n",
      "File \u001b[0;32m~/Library/Python/3.9/lib/python/site-packages/pandas/core/series.py:2973\u001b[0m, in \u001b[0;36mSeries.corr\u001b[0;34m(self, other, method, min_periods)\u001b[0m\n\u001b[1;32m   2970\u001b[0m \u001b[39mif\u001b[39;00m \u001b[39mlen\u001b[39m(this) \u001b[39m==\u001b[39m \u001b[39m0\u001b[39m:\n\u001b[1;32m   2971\u001b[0m     \u001b[39mreturn\u001b[39;00m np\u001b[39m.\u001b[39mnan\n\u001b[0;32m-> 2973\u001b[0m this_values \u001b[39m=\u001b[39m this\u001b[39m.\u001b[39;49mto_numpy(dtype\u001b[39m=\u001b[39;49m\u001b[39mfloat\u001b[39;49m, na_value\u001b[39m=\u001b[39;49mnp\u001b[39m.\u001b[39;49mnan, copy\u001b[39m=\u001b[39;49m\u001b[39mFalse\u001b[39;49;00m)\n\u001b[1;32m   2974\u001b[0m other_values \u001b[39m=\u001b[39m other\u001b[39m.\u001b[39mto_numpy(dtype\u001b[39m=\u001b[39m\u001b[39mfloat\u001b[39m, na_value\u001b[39m=\u001b[39mnp\u001b[39m.\u001b[39mnan, copy\u001b[39m=\u001b[39m\u001b[39mFalse\u001b[39;00m)\n\u001b[1;32m   2976\u001b[0m \u001b[39mif\u001b[39;00m method \u001b[39min\u001b[39;00m [\u001b[39m\"\u001b[39m\u001b[39mpearson\u001b[39m\u001b[39m\"\u001b[39m, \u001b[39m\"\u001b[39m\u001b[39mspearman\u001b[39m\u001b[39m\"\u001b[39m, \u001b[39m\"\u001b[39m\u001b[39mkendall\u001b[39m\u001b[39m\"\u001b[39m] \u001b[39mor\u001b[39;00m \u001b[39mcallable\u001b[39m(method):\n",
      "File \u001b[0;32m~/Library/Python/3.9/lib/python/site-packages/pandas/core/base.py:662\u001b[0m, in \u001b[0;36mIndexOpsMixin.to_numpy\u001b[0;34m(self, dtype, copy, na_value, **kwargs)\u001b[0m\n\u001b[1;32m    658\u001b[0m         values \u001b[39m=\u001b[39m values\u001b[39m.\u001b[39mcopy()\n\u001b[1;32m    660\u001b[0m     values[np\u001b[39m.\u001b[39masanyarray(isna(\u001b[39mself\u001b[39m))] \u001b[39m=\u001b[39m na_value\n\u001b[0;32m--> 662\u001b[0m result \u001b[39m=\u001b[39m np\u001b[39m.\u001b[39;49masarray(values, dtype\u001b[39m=\u001b[39;49mdtype)\n\u001b[1;32m    664\u001b[0m \u001b[39mif\u001b[39;00m (copy \u001b[39mand\u001b[39;00m \u001b[39mnot\u001b[39;00m fillna) \u001b[39mor\u001b[39;00m (\u001b[39mnot\u001b[39;00m copy \u001b[39mand\u001b[39;00m using_copy_on_write()):\n\u001b[1;32m    665\u001b[0m     \u001b[39mif\u001b[39;00m np\u001b[39m.\u001b[39mshares_memory(\u001b[39mself\u001b[39m\u001b[39m.\u001b[39m_values[:\u001b[39m2\u001b[39m], result[:\u001b[39m2\u001b[39m]):\n\u001b[1;32m    666\u001b[0m         \u001b[39m# Take slices to improve performance of check\u001b[39;00m\n",
      "\u001b[0;31mValueError\u001b[0m: could not convert string to float: 'Negative'"
     ]
    }
   ],
   "source": [
    "# Run the Analysis\n",
    "symbol = 'aapl'\n",
    "start_date = '2023-10-18'\n",
    "end_date = '2024-10-18'\n",
    "\n",
    "sentiment_data = fetch_sentiment_data(symbol, start_date, end_date)\n",
    "stock_data = fetch_stock_data(symbol, start_date, end_date)\n",
    "\n",
    "correlation, merged_data = correlate_sentiment_with_stock(sentiment_data, stock_data)\n",
    "\n",
    "print(f\"Correlation between sentiment and stock price: {correlation:.4f}\")\n",
    "visualize_data(merged_data)"
   ]
  }
 ],
 "metadata": {
  "kernelspec": {
   "display_name": "obb",
   "language": "python",
   "name": "python3"
  },
  "language_info": {
   "codemirror_mode": {
    "name": "ipython",
    "version": 3
   },
   "file_extension": ".py",
   "mimetype": "text/x-python",
   "name": "python",
   "nbconvert_exporter": "python",
   "pygments_lexer": "ipython3",
   "version": "3.9.6"
  }
 },
 "nbformat": 4,
 "nbformat_minor": 2
}
